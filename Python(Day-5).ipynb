{
 "cells": [
  {
   "cell_type": "code",
   "execution_count": null,
   "id": "f81bf32c-1587-4ac4-8b89-506b99f82a14",
   "metadata": {},
   "outputs": [],
   "source": [
    "#Python program to print n integers and their sum"
   ]
  },
  {
   "cell_type": "code",
   "execution_count": 3,
   "id": "5d1f82a3-8c5a-4108-9378-8e35c257c2e4",
   "metadata": {},
   "outputs": [
    {
     "name": "stdin",
     "output_type": "stream",
     "text": [
      "Enter a positive integer n:  17\n"
     ]
    },
    {
     "name": "stdout",
     "output_type": "stream",
     "text": [
      "\n",
      "Numbers from 1 to  17 are: \n",
      "1\n",
      "2\n",
      "3\n",
      "4\n",
      "5\n",
      "6\n",
      "7\n",
      "8\n",
      "9\n",
      "10\n",
      "11\n",
      "12\n",
      "13\n",
      "14\n",
      "15\n",
      "16\n",
      "17\n",
      "\n",
      "Sum of numbers from 1 to  17 are:  153\n"
     ]
    }
   ],
   "source": [
    "n=int(input(\"Enter a positive integer n: \"))\n",
    "print(\"\\nNumbers from 1 to \",n,\"are: \")\n",
    "for i in range(1,n+1):\n",
    "    print(i)\n",
    "sum=0\n",
    "i=1\n",
    "while i<=n:\n",
    "    sum+=i\n",
    "    i+=1\n",
    "print(\"\\nSum of numbers from 1 to \" ,n,\"are: \",sum)"
   ]
  },
  {
   "cell_type": "code",
   "execution_count": null,
   "id": "11ffaf45-6fc7-4b74-83cc-53f368b9f960",
   "metadata": {},
   "outputs": [],
   "source": [
    "#Python program to print the square of a given number using user-defined function"
   ]
  },
  {
   "cell_type": "code",
   "execution_count": 7,
   "id": "7dd374fe-3ec8-4d64-ad43-b0d126db5f79",
   "metadata": {},
   "outputs": [
    {
     "name": "stdin",
     "output_type": "stream",
     "text": [
      "Enter a positive integer:  5\n"
     ]
    },
    {
     "name": "stdout",
     "output_type": "stream",
     "text": [
      "The square of 5 is : 25\n"
     ]
    }
   ],
   "source": [
    "def calculate_square(n):\n",
    "    return n**2\n",
    "n=int(input(\"Enter a positive integer: \"))\n",
    "square=calculate_square(n)\n",
    "print(\"The square of\",n,\"is :\",square)\n",
    "      "
   ]
  },
  {
   "cell_type": "code",
   "execution_count": null,
   "id": "d03e1aaf-d2b0-43c9-a474-20680e84dbca",
   "metadata": {},
   "outputs": [],
   "source": []
  }
 ],
 "metadata": {
  "kernelspec": {
   "display_name": "Python [conda env:base] *",
   "language": "python",
   "name": "conda-base-py"
  },
  "language_info": {
   "codemirror_mode": {
    "name": "ipython",
    "version": 3
   },
   "file_extension": ".py",
   "mimetype": "text/x-python",
   "name": "python",
   "nbconvert_exporter": "python",
   "pygments_lexer": "ipython3",
   "version": "3.12.7"
  }
 },
 "nbformat": 4,
 "nbformat_minor": 5
}
