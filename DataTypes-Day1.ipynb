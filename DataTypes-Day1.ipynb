{
 "cells": [
  {
   "cell_type": "code",
   "execution_count": 5,
   "id": "3113f525-42b2-45a6-b9fb-111d56f3535a",
   "metadata": {},
   "outputs": [],
   "source": [
    "#DataTypes-Day1"
   ]
  },
  {
   "cell_type": "code",
   "execution_count": 9,
   "id": "0d15c00b-2161-4c44-a1b3-fc4cc3947b40",
   "metadata": {},
   "outputs": [
    {
     "name": "stdout",
     "output_type": "stream",
     "text": [
      "17  is of type  <class 'int'>\n"
     ]
    }
   ],
   "source": [
    "Integer=17\n",
    "print(Integer,\" is of type \",type(Integer)) "
   ]
  },
  {
   "cell_type": "code",
   "execution_count": 11,
   "id": "a7cf0d38-e7c1-4b6e-9d74-4b933f5c715c",
   "metadata": {},
   "outputs": [
    {
     "name": "stdout",
     "output_type": "stream",
     "text": [
      "32.17  is of type  <class 'float'>\n"
     ]
    }
   ],
   "source": [
    "Float=32.17\n",
    "print(Float,\" is of type \",type(Float))"
   ]
  },
  {
   "cell_type": "code",
   "execution_count": 13,
   "id": "061567d0-91c6-4bdd-9027-b073d43538c1",
   "metadata": {},
   "outputs": [
    {
     "name": "stdout",
     "output_type": "stream",
     "text": [
      "(2+3j)  is of type  <class 'complex'>\n"
     ]
    }
   ],
   "source": [
    "Complex=2+3j\n",
    "print(Complex,\" is of type \",type(Complex))"
   ]
  },
  {
   "cell_type": "code",
   "execution_count": 15,
   "id": "b41f2eeb-724d-4aba-880f-45796e4f103a",
   "metadata": {},
   "outputs": [
    {
     "name": "stdout",
     "output_type": "stream",
     "text": [
      "TEJA  is of type  <class 'str'>\n"
     ]
    }
   ],
   "source": [
    "String=\"TEJA\"\n",
    "print(String,\" is of type \",type(String))"
   ]
  },
  {
   "cell_type": "code",
   "execution_count": 17,
   "id": "7580ef10-d994-412f-b7fc-7180e532d7c5",
   "metadata": {},
   "outputs": [
    {
     "name": "stdout",
     "output_type": "stream",
     "text": [
      "True  is of type  <class 'bool'>\n"
     ]
    }
   ],
   "source": [
    "Boolean=True\n",
    "print(Boolean,\" is of type \",type(Boolean))"
   ]
  },
  {
   "cell_type": "code",
   "execution_count": 19,
   "id": "9e8efc5e-504f-44fa-a714-23551bd27647",
   "metadata": {},
   "outputs": [
    {
     "name": "stdout",
     "output_type": "stream",
     "text": [
      "[1, 2, 3, 'a', 'b', 'c']  is of type  <class 'list'>\n"
     ]
    }
   ],
   "source": [
    "List=[1,2,3,'a','b','c']\n",
    "print(List,\" is of type \",type(List))"
   ]
  },
  {
   "cell_type": "code",
   "execution_count": 21,
   "id": "01d9c1c0-20a3-4c6c-bc4c-a8b9b607aeec",
   "metadata": {},
   "outputs": [
    {
     "name": "stdout",
     "output_type": "stream",
     "text": [
      "(1, 2, 3, 'a', 'b', 'c')  is of type  <class 'tuple'>\n"
     ]
    }
   ],
   "source": [
    "Tuple=(1,2,3,'a','b','c')\n",
    "print(Tuple,\" is of type \",type(Tuple))"
   ]
  },
  {
   "cell_type": "code",
   "execution_count": 23,
   "id": "3760fc14-bf75-4c15-98d3-aae9e120e2c7",
   "metadata": {},
   "outputs": [
    {
     "name": "stdout",
     "output_type": "stream",
     "text": [
      "{'Name': 'Teja', 'Age': 19}  is of type  <class 'dict'>\n"
     ]
    }
   ],
   "source": [
    "Dictionary={'Name':'Teja','Age':19}\n",
    "print(Dictionary,\" is of type \",type(Dictionary))"
   ]
  },
  {
   "cell_type": "code",
   "execution_count": 25,
   "id": "880e3694-2e5e-4006-bcc4-d5c00660f2f7",
   "metadata": {},
   "outputs": [
    {
     "name": "stdout",
     "output_type": "stream",
     "text": [
      "{1, 2, 3, 'c', 'b', 'a'}  is of type  <class 'set'>\n"
     ]
    }
   ],
   "source": [
    "Set={1,2,3,'a','b','c'}\n",
    "print(Set,\" is of type \",type(Set))"
   ]
  },
  {
   "cell_type": "code",
   "execution_count": null,
   "id": "c660e3f3-397f-449a-97d1-fabc5349c779",
   "metadata": {},
   "outputs": [],
   "source": []
  }
 ],
 "metadata": {
  "kernelspec": {
   "display_name": "Python [conda env:base] *",
   "language": "python",
   "name": "conda-base-py"
  },
  "language_info": {
   "codemirror_mode": {
    "name": "ipython",
    "version": 3
   },
   "file_extension": ".py",
   "mimetype": "text/x-python",
   "name": "python",
   "nbconvert_exporter": "python",
   "pygments_lexer": "ipython3",
   "version": "3.12.7"
  }
 },
 "nbformat": 4,
 "nbformat_minor": 5
}
