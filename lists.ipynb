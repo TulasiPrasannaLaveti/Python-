{
 "cells": [
  {
   "cell_type": "code",
   "execution_count": 1,
   "id": "5a73b0af-8fc9-43a1-a29f-e255ce83af8e",
   "metadata": {},
   "outputs": [
    {
     "data": {
      "text/plain": [
       "[3, 2, 17, 13]"
      ]
     },
     "execution_count": 1,
     "metadata": {},
     "output_type": "execute_result"
    }
   ],
   "source": [
    "a=[3,2,17,13]\n",
    "a"
   ]
  },
  {
   "cell_type": "code",
   "execution_count": 3,
   "id": "17227ad5-8c79-4904-83db-a1030ea2dcaf",
   "metadata": {},
   "outputs": [
    {
     "data": {
      "text/plain": [
       "list"
      ]
     },
     "execution_count": 3,
     "metadata": {},
     "output_type": "execute_result"
    }
   ],
   "source": [
    "type(a)"
   ]
  },
  {
   "cell_type": "code",
   "execution_count": 5,
   "id": "3345cf11-b408-4bae-9256-5b1b71459f2f",
   "metadata": {},
   "outputs": [
    {
     "data": {
      "text/plain": [
       "['data', True, 10, 4, 56, 'Hyderabad', 34, 67, False]"
      ]
     },
     "execution_count": 5,
     "metadata": {},
     "output_type": "execute_result"
    }
   ],
   "source": [
    "b=['data',True,10,4,56,'Hyderabad', 34,67,False]\n",
    "b"
   ]
  },
  {
   "cell_type": "code",
   "execution_count": 7,
   "id": "3763cc5f-e1cd-4f26-a9bc-8ddc705c420c",
   "metadata": {},
   "outputs": [
    {
     "data": {
      "text/plain": [
       "list"
      ]
     },
     "execution_count": 7,
     "metadata": {},
     "output_type": "execute_result"
    }
   ],
   "source": [
    "type(b)"
   ]
  },
  {
   "cell_type": "code",
   "execution_count": 11,
   "id": "8a1c3b13-b7e6-4690-b907-6afcadd9b532",
   "metadata": {},
   "outputs": [
    {
     "data": {
      "text/plain": [
       "['data', True, 10, 4, 56, 'Hyderabad', 34, 67, False, 'hello', 'hello']"
      ]
     },
     "execution_count": 11,
     "metadata": {},
     "output_type": "execute_result"
    }
   ],
   "source": [
    "b.append('hello')\n",
    "b"
   ]
  },
  {
   "cell_type": "code",
   "execution_count": 13,
   "id": "3e81393d-d5bf-4daf-9605-18a698861185",
   "metadata": {},
   "outputs": [
    {
     "data": {
      "text/plain": [
       "['data', 10, 4, 56, 'Hyderabad', 34, 67, False, 'hello', 'hello']"
      ]
     },
     "execution_count": 13,
     "metadata": {},
     "output_type": "execute_result"
    }
   ],
   "source": [
    "b.remove(True)\n",
    "b"
   ]
  },
  {
   "cell_type": "code",
   "execution_count": 15,
   "id": "8c22b297-a552-487a-bcd1-d099959f3165",
   "metadata": {},
   "outputs": [
    {
     "data": {
      "text/plain": [
       "['data', 10, 4, 56, 'Hyderabad', 34, 67, False, 'hello']"
      ]
     },
     "execution_count": 15,
     "metadata": {},
     "output_type": "execute_result"
    }
   ],
   "source": [
    "b.remove('hello')\n",
    "b"
   ]
  },
  {
   "cell_type": "code",
   "execution_count": 85,
   "id": "fee1bcda-2203-4c07-8308-c0ce1607cfcb",
   "metadata": {},
   "outputs": [
    {
     "data": {
      "text/plain": [
       "['data', 'Hyderabad', 34, 67, False, 'hello']"
      ]
     },
     "execution_count": 85,
     "metadata": {},
     "output_type": "execute_result"
    }
   ],
   "source": [
    "b.remove(10)\n",
    "b"
   ]
  },
  {
   "cell_type": "code",
   "execution_count": 19,
   "id": "d3532b74-a07c-4159-9451-aa8899f1f3ac",
   "metadata": {},
   "outputs": [
    {
     "data": {
      "text/plain": [
       "[1, 2, 3, 'abc', 4, 5, 6]"
      ]
     },
     "execution_count": 19,
     "metadata": {},
     "output_type": "execute_result"
    }
   ],
   "source": [
    "c=[1,2,3,'abc',4,5,6]\n",
    "c"
   ]
  },
  {
   "cell_type": "code",
   "execution_count": 21,
   "id": "e295c622-93de-4637-9af3-debe080d8a8f",
   "metadata": {},
   "outputs": [
    {
     "data": {
      "text/plain": [
       "[3,\n",
       " 2,\n",
       " 17,\n",
       " 13,\n",
       " 'data',\n",
       " 10,\n",
       " 4,\n",
       " 56,\n",
       " 'Hyderabad',\n",
       " 34,\n",
       " 67,\n",
       " False,\n",
       " 'hello',\n",
       " 1,\n",
       " 2,\n",
       " 3,\n",
       " 'abc',\n",
       " 4,\n",
       " 5,\n",
       " 6]"
      ]
     },
     "execution_count": 21,
     "metadata": {},
     "output_type": "execute_result"
    }
   ],
   "source": [
    "d=a+b+c\n",
    "d"
   ]
  },
  {
   "cell_type": "code",
   "execution_count": 27,
   "id": "c57fc0f7-9992-4b9e-908d-d1b094f6ed7a",
   "metadata": {},
   "outputs": [
    {
     "name": "stdout",
     "output_type": "stream",
     "text": [
      "[1, 2, 3, 4, 'abc']\n",
      "[True, False]\n",
      "[1, 2, 3, 4, 'abc', True, False]\n"
     ]
    }
   ],
   "source": [
    "e=[1,2,3,4,'abc']\n",
    "f=[True,False]\n",
    "g=e+f\n",
    "e\n",
    "f\n",
    "g\n",
    "e\n",
    "print(e)\n",
    "print(f)\n",
    "print(g)"
   ]
  },
  {
   "cell_type": "code",
   "execution_count": 29,
   "id": "0aa4365b-de86-448f-a249-8d03d7a7887e",
   "metadata": {},
   "outputs": [
    {
     "data": {
      "text/plain": [
       "3"
      ]
     },
     "execution_count": 29,
     "metadata": {},
     "output_type": "execute_result"
    }
   ],
   "source": [
    "e[2]"
   ]
  },
  {
   "cell_type": "code",
   "execution_count": 31,
   "id": "66ea239b-904b-42d0-8359-3d4b1e0c7f8e",
   "metadata": {},
   "outputs": [
    {
     "data": {
      "text/plain": [
       "['data', 10, 4, 56, 'Hyderabad', 34, 67, False, 'hello']"
      ]
     },
     "execution_count": 31,
     "metadata": {},
     "output_type": "execute_result"
    }
   ],
   "source": [
    "b"
   ]
  },
  {
   "cell_type": "code",
   "execution_count": 35,
   "id": "bdd56358-b316-4060-a568-c32426448fc1",
   "metadata": {},
   "outputs": [
    {
     "data": {
      "text/plain": [
       "[4, 56, 'Hyderabad']"
      ]
     },
     "execution_count": 35,
     "metadata": {},
     "output_type": "execute_result"
    }
   ],
   "source": [
    "b[2:5]"
   ]
  },
  {
   "cell_type": "code",
   "execution_count": 41,
   "id": "c85d8991-6286-4b6d-a250-e797a6b87773",
   "metadata": {},
   "outputs": [
    {
     "data": {
      "text/plain": [
       "['data', 10, 56, 'Hyderabad', 34, 67, False, 'hello']"
      ]
     },
     "execution_count": 41,
     "metadata": {},
     "output_type": "execute_result"
    }
   ],
   "source": [
    "b.pop(2)\n",
    "b"
   ]
  },
  {
   "cell_type": "code",
   "execution_count": 45,
   "id": "b5c02c2e-280a-4ab1-b8e7-aafe6c4c0ab4",
   "metadata": {},
   "outputs": [
    {
     "data": {
      "text/plain": [
       "['data', 10, 'Hyderabad', 34, 67, False, 'hello']"
      ]
     },
     "execution_count": 45,
     "metadata": {},
     "output_type": "execute_result"
    }
   ],
   "source": [
    "del b[2]\n",
    "b"
   ]
  },
  {
   "cell_type": "code",
   "execution_count": 75,
   "id": "f9b9a0eb-542e-434d-98f4-1ff2473f8788",
   "metadata": {},
   "outputs": [
    {
     "data": {
      "text/plain": [
       "['data', 'Hyderabad', 67, 'hello']"
      ]
     },
     "execution_count": 75,
     "metadata": {},
     "output_type": "execute_result"
    }
   ],
   "source": [
    "b[::2]"
   ]
  },
  {
   "cell_type": "code",
   "execution_count": 65,
   "id": "d32dc9de-6a72-4c65-b045-76d0735cb8ef",
   "metadata": {},
   "outputs": [
    {
     "data": {
      "text/plain": [
       "[10, 34, False]"
      ]
     },
     "execution_count": 65,
     "metadata": {},
     "output_type": "execute_result"
    }
   ],
   "source": [
    "b[1::2]"
   ]
  },
  {
   "cell_type": "code",
   "execution_count": 71,
   "id": "5839106a-289f-408b-be01-1f8987e7ef6b",
   "metadata": {},
   "outputs": [
    {
     "data": {
      "text/plain": [
       "['data', 'Hyderabad']"
      ]
     },
     "execution_count": 71,
     "metadata": {},
     "output_type": "execute_result"
    }
   ],
   "source": [
    "b[0:4:2]"
   ]
  },
  {
   "cell_type": "code",
   "execution_count": 81,
   "id": "a0f09ed0-3665-49ea-9ddc-cdb0a0818e70",
   "metadata": {},
   "outputs": [
    {
     "data": {
      "text/plain": [
       "[10, 'Hyderabad', 34]"
      ]
     },
     "execution_count": 81,
     "metadata": {},
     "output_type": "execute_result"
    }
   ],
   "source": [
    "b[-6:-3]"
   ]
  },
  {
   "cell_type": "code",
   "execution_count": 83,
   "id": "aa0301e7-7f36-4a5a-be26-e6a8e9b2fe70",
   "metadata": {},
   "outputs": [
    {
     "data": {
      "text/plain": [
       "[]"
      ]
     },
     "execution_count": 83,
     "metadata": {},
     "output_type": "execute_result"
    }
   ],
   "source": [
    "b[-3:-6]"
   ]
  },
  {
   "cell_type": "code",
   "execution_count": 89,
   "id": "5f468f63-fa1e-422f-8991-311286944ca8",
   "metadata": {},
   "outputs": [
    {
     "data": {
      "text/plain": [
       "['data', 'Hyderabad', 34, 67, False, 'hello']"
      ]
     },
     "execution_count": 89,
     "metadata": {},
     "output_type": "execute_result"
    }
   ],
   "source": [
    "b"
   ]
  },
  {
   "cell_type": "code",
   "execution_count": 107,
   "id": "4df8055e-9cc1-424b-bbde-950f7e0089cf",
   "metadata": {},
   "outputs": [
    {
     "data": {
      "text/plain": [
       "[]"
      ]
     },
     "execution_count": 107,
     "metadata": {},
     "output_type": "execute_result"
    }
   ],
   "source": [
    "b[-5:-2:-2]"
   ]
  },
  {
   "cell_type": "code",
   "execution_count": 97,
   "id": "fc740b91-1652-4372-bfd6-aaf685ea1d34",
   "metadata": {},
   "outputs": [
    {
     "data": {
      "text/plain": [
       "['hello', 67, 'Hyderabad']"
      ]
     },
     "execution_count": 97,
     "metadata": {},
     "output_type": "execute_result"
    }
   ],
   "source": [
    "b[::-2]"
   ]
  },
  {
   "cell_type": "code",
   "execution_count": 99,
   "id": "5253079b-1370-4b12-9e10-95871a9495f0",
   "metadata": {},
   "outputs": [
    {
     "data": {
      "text/plain": [
       "['data', 'Hyderabad', 34, 67, False, 1, 2, 3, 4, 5, 67, 8, 9]"
      ]
     },
     "execution_count": 99,
     "metadata": {},
     "output_type": "execute_result"
    }
   ],
   "source": [
    "a=['data', 'Hyderabad', 34, 67, False,1,2,3,4,5,67,8,9 ]\n",
    "a"
   ]
  },
  {
   "cell_type": "code",
   "execution_count": 101,
   "id": "e831b51f-a87b-4f2b-8d63-3b3d10a41055",
   "metadata": {},
   "outputs": [
    {
     "data": {
      "text/plain": [
       "[9, 67, 4, 2, False, 34, 'data']"
      ]
     },
     "execution_count": 101,
     "metadata": {},
     "output_type": "execute_result"
    }
   ],
   "source": [
    "a[::-2]"
   ]
  },
  {
   "cell_type": "code",
   "execution_count": 103,
   "id": "4c07010f-3e5b-409a-9b66-7ccc7cf350ba",
   "metadata": {},
   "outputs": [],
   "source": [
    "a.reverse()"
   ]
  },
  {
   "cell_type": "code",
   "execution_count": 105,
   "id": "3baef1ff-5eed-4599-8a93-a5f31c5cbb93",
   "metadata": {},
   "outputs": [
    {
     "data": {
      "text/plain": [
       "[9, 8, 67, 5, 4, 3, 2, 1, False, 67, 34, 'Hyderabad', 'data']"
      ]
     },
     "execution_count": 105,
     "metadata": {},
     "output_type": "execute_result"
    }
   ],
   "source": [
    "a"
   ]
  },
  {
   "cell_type": "code",
   "execution_count": 109,
   "id": "73342f97-8b4d-4250-abb6-0f248ec6a210",
   "metadata": {},
   "outputs": [
    {
     "ename": "AttributeError",
     "evalue": "'list' object has no attribute 'len'",
     "output_type": "error",
     "traceback": [
      "\u001b[1;31m---------------------------------------------------------------------------\u001b[0m",
      "\u001b[1;31mAttributeError\u001b[0m                            Traceback (most recent call last)",
      "Cell \u001b[1;32mIn[109], line 1\u001b[0m\n\u001b[1;32m----> 1\u001b[0m a\u001b[38;5;241m.\u001b[39mlen()\n",
      "\u001b[1;31mAttributeError\u001b[0m: 'list' object has no attribute 'len'"
     ]
    }
   ],
   "source": [
    "a.len()"
   ]
  },
  {
   "cell_type": "code",
   "execution_count": 111,
   "id": "4ab1bd32-758b-4189-a4f3-402d7c595c35",
   "metadata": {},
   "outputs": [
    {
     "data": {
      "text/plain": [
       "13"
      ]
     },
     "execution_count": 111,
     "metadata": {},
     "output_type": "execute_result"
    }
   ],
   "source": [
    "len(a)"
   ]
  },
  {
   "cell_type": "code",
   "execution_count": 113,
   "id": "264723f0-7a59-4988-aad9-615a94e43f81",
   "metadata": {},
   "outputs": [
    {
     "ename": "TypeError",
     "evalue": "'>' not supported between instances of 'str' and 'int'",
     "output_type": "error",
     "traceback": [
      "\u001b[1;31m---------------------------------------------------------------------------\u001b[0m",
      "\u001b[1;31mTypeError\u001b[0m                                 Traceback (most recent call last)",
      "Cell \u001b[1;32mIn[113], line 1\u001b[0m\n\u001b[1;32m----> 1\u001b[0m \u001b[38;5;28mmax\u001b[39m(a)\n",
      "\u001b[1;31mTypeError\u001b[0m: '>' not supported between instances of 'str' and 'int'"
     ]
    }
   ],
   "source": [
    "max(a)"
   ]
  },
  {
   "cell_type": "code",
   "execution_count": 117,
   "id": "ef0b474b-199e-40a9-a5ac-c50570dbeba0",
   "metadata": {},
   "outputs": [
    {
     "data": {
      "text/plain": [
       "8"
      ]
     },
     "execution_count": 117,
     "metadata": {},
     "output_type": "execute_result"
    }
   ],
   "source": [
    "h=[1,2,3,4,5,6,7,8]\n",
    "max(h)"
   ]
  },
  {
   "cell_type": "code",
   "execution_count": 119,
   "id": "e8be4a59-c7da-4d07-a719-2a8a78f95f94",
   "metadata": {},
   "outputs": [
    {
     "data": {
      "text/plain": [
       "1"
      ]
     },
     "execution_count": 119,
     "metadata": {},
     "output_type": "execute_result"
    }
   ],
   "source": [
    "min(h)"
   ]
  },
  {
   "cell_type": "code",
   "execution_count": 123,
   "id": "06adc122-8470-417c-ae1b-e1f66aa9d170",
   "metadata": {},
   "outputs": [
    {
     "data": {
      "text/plain": [
       "'a'"
      ]
     },
     "execution_count": 123,
     "metadata": {},
     "output_type": "execute_result"
    }
   ],
   "source": [
    "i=['a','b','qweerty','teja','yash','d']\n",
    "min(i)"
   ]
  },
  {
   "cell_type": "code",
   "execution_count": 125,
   "id": "ad6dffa8-8faf-42c5-a6c8-8bcd3ed5dfa2",
   "metadata": {},
   "outputs": [
    {
     "data": {
      "text/plain": [
       "'yash'"
      ]
     },
     "execution_count": 125,
     "metadata": {},
     "output_type": "execute_result"
    }
   ],
   "source": [
    "max(i)"
   ]
  },
  {
   "cell_type": "code",
   "execution_count": 127,
   "id": "8eb90c26-f56f-4669-864f-577bdbd1894e",
   "metadata": {},
   "outputs": [
    {
     "data": {
      "text/plain": [
       "'d'"
      ]
     },
     "execution_count": 127,
     "metadata": {},
     "output_type": "execute_result"
    }
   ],
   "source": [
    "i[5]"
   ]
  },
  {
   "cell_type": "code",
   "execution_count": null,
   "id": "eb19203e-9703-4424-810a-6aeffa1aacbd",
   "metadata": {},
   "outputs": [],
   "source": [
    "# Create a list\n",
    "fruits = ['apple', 'banana', 'cherry']\n",
    "\n",
    "print(fruits)\n",
    "# Append an element\n",
    "fruits.append('orange')\n",
    "print(fruits)\n",
    "# Insert an element at index 1\n",
    "fruits.insert(1, 'mango')\n",
    "print(fruits)\n",
    "# Remove an element\n",
    "fruits.remove('banana')\n",
    "print(fruits)\n",
    "# Get the index of an element\n",
    "index = fruits.index('cherry')\n",
    "print(fruits)\n",
    "# Count the number of times 'apple' appears in the list\n",
    "count = fruits.count('apple')\n",
    "print(fruits)\n",
    "# Sort the list in ascending order\n",
    "fruits.sort()\n",
    "print(fruits)\n",
    "# Reverse the order of the list\n",
    "fruits.reverse()\n",
    "\n",
    "# Print the final list\n",
    "print(fruits)\n"
   ]
  }
 ],
 "metadata": {
  "kernelspec": {
   "display_name": "Python [conda env:base] *",
   "language": "python",
   "name": "conda-base-py"
  },
  "language_info": {
   "codemirror_mode": {
    "name": "ipython",
    "version": 3
   },
   "file_extension": ".py",
   "mimetype": "text/x-python",
   "name": "python",
   "nbconvert_exporter": "python",
   "pygments_lexer": "ipython3",
   "version": "3.12.7"
  }
 },
 "nbformat": 4,
 "nbformat_minor": 5
}
