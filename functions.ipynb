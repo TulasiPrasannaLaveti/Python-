{
 "cells": [
  {
   "cell_type": "code",
   "execution_count": 5,
   "id": "178b038d-b7ac-46fd-86fa-ccf9241419c4",
   "metadata": {},
   "outputs": [],
   "source": [
    " #def functionname(parameter):\n",
    "    #block ofcode\n",
    "    #return output "
   ]
  },
  {
   "cell_type": "code",
   "execution_count": 69,
   "id": "9aa478da-5c9a-4295-aaec-164b026c3be8",
   "metadata": {},
   "outputs": [],
   "source": [
    "\n",
    "def calculate_Area(r):\n",
    "    a=3.14*r*r\n",
    "    return a\n"
   ]
  },
  {
   "cell_type": "code",
   "execution_count": 71,
   "id": "a9b672b7-6608-43f5-abf5-f91831d36a32",
   "metadata": {},
   "outputs": [
    {
     "data": {
      "text/plain": [
       "28.259999999999998"
      ]
     },
     "execution_count": 71,
     "metadata": {},
     "output_type": "execute_result"
    }
   ],
   "source": [
    "calculate_Area(r=3)"
   ]
  },
  {
   "cell_type": "code",
   "execution_count": 75,
   "id": "2e067af9-b83c-42db-ba0e-154e17c3677d",
   "metadata": {},
   "outputs": [
    {
     "data": {
      "text/plain": [
       "28.259999999999998"
      ]
     },
     "execution_count": 75,
     "metadata": {},
     "output_type": "execute_result"
    }
   ],
   "source": [
    "ty=calculate_Area(r=3)\n",
    "ty"
   ]
  },
  {
   "cell_type": "code",
   "execution_count": 77,
   "id": "2d39e299-f43b-4eaa-b6a1-ee5d0fb0e346",
   "metadata": {},
   "outputs": [
    {
     "data": {
      "text/plain": [
       "float"
      ]
     },
     "execution_count": 77,
     "metadata": {},
     "output_type": "execute_result"
    }
   ],
   "source": [
    "type(ty)"
   ]
  },
  {
   "cell_type": "code",
   "execution_count": 86,
   "id": "70db28db-d57a-43d0-8cf7-3dc4047ca8c0",
   "metadata": {
    "scrolled": true
   },
   "outputs": [
    {
     "data": {
      "text/plain": [
       "51.26"
      ]
     },
     "execution_count": 86,
     "metadata": {},
     "output_type": "execute_result"
    }
   ],
   "source": [
    "ty+23"
   ]
  },
  {
   "cell_type": "code",
   "execution_count": 88,
   "id": "2fd1e454-f96d-4656-8e98-f90fae33b4e4",
   "metadata": {},
   "outputs": [],
   "source": [
    "def aos(l,b):\n",
    "    area=l*b\n",
    "    return area"
   ]
  },
  {
   "cell_type": "code",
   "execution_count": 94,
   "id": "fd88b451-e7cb-45fd-9215-0fb873fa17cd",
   "metadata": {},
   "outputs": [
    {
     "data": {
      "text/plain": [
       "6"
      ]
     },
     "execution_count": 94,
     "metadata": {},
     "output_type": "execute_result"
    }
   ],
   "source": [
    "aos(2,3)"
   ]
  },
  {
   "cell_type": "code",
   "execution_count": 151,
   "id": "54ff0fc7-c024-40e3-b0f3-eae78bb81116",
   "metadata": {},
   "outputs": [],
   "source": [
    "def area(r,l,b):\n",
    "    circle=3.14*r*r\n",
    "    rect=l*b\n",
    "    return {'circle':circle,'rect':rect}\n"
   ]
  },
  {
   "cell_type": "code",
   "execution_count": 153,
   "id": "35ee0452-5512-4cd3-8a95-25b373cc48d4",
   "metadata": {},
   "outputs": [
    {
     "data": {
      "text/plain": [
       "{'circle': 78.5, 'rect': 6}"
      ]
     },
     "execution_count": 153,
     "metadata": {},
     "output_type": "execute_result"
    }
   ],
   "source": [
    "area(5 ,2, 3)\n"
   ]
  },
  {
   "cell_type": "code",
   "execution_count": 7,
   "id": "c6e3dd7c-40dc-4e1b-9605-5a955ea06c4c",
   "metadata": {},
   "outputs": [
    {
     "data": {
      "text/plain": [
       "6"
      ]
     },
     "execution_count": 7,
     "metadata": {},
     "output_type": "execute_result"
    }
   ],
   "source": [
    "t='hyderabad 5000068 teLAnAgAna'\n",
    "def counting(a):\n",
    "    return a.lower().count('a')\n",
    "counting(t)"
   ]
  },
  {
   "cell_type": "code",
   "execution_count": 11,
   "id": "e591cf4a-5854-4221-93b4-a45e94872bfb",
   "metadata": {},
   "outputs": [],
   "source": [
    "def count_num_alpha(x):\n",
    "    c=0\n",
    "    d=0\n",
    "    for i in x:\n",
    "        if i.isalpha():\n",
    "            c+=1\n",
    "        elif i.isnumeric():\n",
    "            d+=1\n",
    "    return{'Alphabets':c,'numbers':d}"
   ]
  },
  {
   "cell_type": "code",
   "execution_count": 13,
   "id": "d23d0713-dbde-41cd-abec-bea82550857a",
   "metadata": {},
   "outputs": [
    {
     "data": {
      "text/plain": [
       "{'Alphabets': 19, 'numbers': 7}"
      ]
     },
     "execution_count": 13,
     "metadata": {},
     "output_type": "execute_result"
    }
   ],
   "source": [
    "count_num_alpha(t)"
   ]
  },
  {
   "cell_type": "code",
   "execution_count": null,
   "id": "e479e08f-af95-4f3d-ba79-3dc7b798dbf8",
   "metadata": {},
   "outputs": [],
   "source": []
  }
 ],
 "metadata": {
  "kernelspec": {
   "display_name": "Python [conda env:base] *",
   "language": "python",
   "name": "conda-base-py"
  },
  "language_info": {
   "codemirror_mode": {
    "name": "ipython",
    "version": 3
   },
   "file_extension": ".py",
   "mimetype": "text/x-python",
   "name": "python",
   "nbconvert_exporter": "python",
   "pygments_lexer": "ipython3",
   "version": "3.12.7"
  }
 },
 "nbformat": 4,
 "nbformat_minor": 5
}
